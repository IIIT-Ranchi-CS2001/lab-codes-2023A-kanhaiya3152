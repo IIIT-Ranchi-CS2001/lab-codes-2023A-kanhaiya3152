{
 "cells": [
  {
   "cell_type": "code",
   "execution_count": null,
   "id": "942b6f90-ee6e-44e7-9dfb-512377f9886e",
   "metadata": {},
   "outputs": [],
   "source": [
    "import pandas as pd \n"
   ]
  },
  {
   "cell_type": "code",
   "execution_count": null,
   "id": "29cf03f6-1d1d-4795-aac3-0df9224bf7f3",
   "metadata": {},
   "outputs": [],
   "source": [
    "df = pd.read_csv(\"3rd_sem\\AQI_Data.csv\")\n"
   ]
  },
  {
   "cell_type": "code",
   "execution_count": 8,
   "id": "26f6c96d-8947-4bfb-a64e-6e160c7e9043",
   "metadata": {},
   "outputs": [
    {
     "name": "stdout",
     "output_type": "stream",
     "text": [
      "First 5 rows of the dataset\n"
     ]
    }
   ],
   "source": [
    "print(\"First 5 rows of the dataset\")"
   ]
  },
  {
   "cell_type": "code",
   "execution_count": 3,
   "id": "723429ed-e12f-4cca-ab3b-3d1c47b46560",
   "metadata": {},
   "outputs": [
    {
     "data": {
      "text/html": [
       "<div>\n",
       "<style scoped>\n",
       "    .dataframe tbody tr th:only-of-type {\n",
       "        vertical-align: middle;\n",
       "    }\n",
       "\n",
       "    .dataframe tbody tr th {\n",
       "        vertical-align: top;\n",
       "    }\n",
       "\n",
       "    .dataframe thead th {\n",
       "        text-align: right;\n",
       "    }\n",
       "</style>\n",
       "<table border=\"1\" class=\"dataframe\">\n",
       "  <thead>\n",
       "    <tr style=\"text-align: right;\">\n",
       "      <th></th>\n",
       "      <th>City</th>\n",
       "      <th>Date</th>\n",
       "      <th>AQI</th>\n",
       "      <th>PM2.5</th>\n",
       "      <th>PM10</th>\n",
       "      <th>NO2</th>\n",
       "      <th>CO</th>\n",
       "      <th>O3</th>\n",
       "      <th>SO2</th>\n",
       "    </tr>\n",
       "  </thead>\n",
       "  <tbody>\n",
       "    <tr>\n",
       "      <th>0</th>\n",
       "      <td>Delhi</td>\n",
       "      <td>2024-01-01</td>\n",
       "      <td>152</td>\n",
       "      <td>153</td>\n",
       "      <td>151</td>\n",
       "      <td>26.509131</td>\n",
       "      <td>1.581413</td>\n",
       "      <td>123.401530</td>\n",
       "      <td>25.062474</td>\n",
       "    </tr>\n",
       "    <tr>\n",
       "      <th>1</th>\n",
       "      <td>Delhi</td>\n",
       "      <td>2024-01-02</td>\n",
       "      <td>264</td>\n",
       "      <td>288</td>\n",
       "      <td>268</td>\n",
       "      <td>87.955853</td>\n",
       "      <td>1.242119</td>\n",
       "      <td>144.533790</td>\n",
       "      <td>5.926302</td>\n",
       "    </tr>\n",
       "    <tr>\n",
       "      <th>2</th>\n",
       "      <td>Delhi</td>\n",
       "      <td>2024-01-03</td>\n",
       "      <td>307</td>\n",
       "      <td>344</td>\n",
       "      <td>357</td>\n",
       "      <td>94.469744</td>\n",
       "      <td>0.101480</td>\n",
       "      <td>198.520196</td>\n",
       "      <td>32.786668</td>\n",
       "    </tr>\n",
       "    <tr>\n",
       "      <th>3</th>\n",
       "      <td>Delhi</td>\n",
       "      <td>2024-01-04</td>\n",
       "      <td>363</td>\n",
       "      <td>334</td>\n",
       "      <td>347</td>\n",
       "      <td>12.075618</td>\n",
       "      <td>1.097072</td>\n",
       "      <td>85.973585</td>\n",
       "      <td>7.099955</td>\n",
       "    </tr>\n",
       "    <tr>\n",
       "      <th>4</th>\n",
       "      <td>Delhi</td>\n",
       "      <td>2024-01-05</td>\n",
       "      <td>237</td>\n",
       "      <td>266</td>\n",
       "      <td>250</td>\n",
       "      <td>51.046299</td>\n",
       "      <td>1.591834</td>\n",
       "      <td>47.938019</td>\n",
       "      <td>28.140550</td>\n",
       "    </tr>\n",
       "  </tbody>\n",
       "</table>\n",
       "</div>"
      ],
      "text/plain": [
       "    City        Date  AQI  PM2.5  PM10        NO2        CO          O3  \\\n",
       "0  Delhi  2024-01-01  152    153   151  26.509131  1.581413  123.401530   \n",
       "1  Delhi  2024-01-02  264    288   268  87.955853  1.242119  144.533790   \n",
       "2  Delhi  2024-01-03  307    344   357  94.469744  0.101480  198.520196   \n",
       "3  Delhi  2024-01-04  363    334   347  12.075618  1.097072   85.973585   \n",
       "4  Delhi  2024-01-05  237    266   250  51.046299  1.591834   47.938019   \n",
       "\n",
       "         SO2  \n",
       "0  25.062474  \n",
       "1   5.926302  \n",
       "2  32.786668  \n",
       "3   7.099955  \n",
       "4  28.140550  "
      ]
     },
     "execution_count": 3,
     "metadata": {},
     "output_type": "execute_result"
    }
   ],
   "source": [
    "df.head()"
   ]
  },
  {
   "cell_type": "code",
   "execution_count": 9,
   "id": "23c037e8-270b-4604-a9b7-33d4fbca4a63",
   "metadata": {},
   "outputs": [
    {
     "name": "stdout",
     "output_type": "stream",
     "text": [
      "Last 5 rows of the dataset\n"
     ]
    }
   ],
   "source": [
    "print(\"Last 5 rows of the dataset\")"
   ]
  },
  {
   "cell_type": "code",
   "execution_count": null,
   "id": "9933b076",
   "metadata": {},
   "outputs": [],
   "source": []
  },
  {
   "cell_type": "code",
   "execution_count": 4,
   "id": "793a14f5-62fa-4710-87aa-bcd210925e02",
   "metadata": {},
   "outputs": [
    {
     "data": {
      "text/html": [
       "<div>\n",
       "<style scoped>\n",
       "    .dataframe tbody tr th:only-of-type {\n",
       "        vertical-align: middle;\n",
       "    }\n",
       "\n",
       "    .dataframe tbody tr th {\n",
       "        vertical-align: top;\n",
       "    }\n",
       "\n",
       "    .dataframe thead th {\n",
       "        text-align: right;\n",
       "    }\n",
       "</style>\n",
       "<table border=\"1\" class=\"dataframe\">\n",
       "  <thead>\n",
       "    <tr style=\"text-align: right;\">\n",
       "      <th></th>\n",
       "      <th>City</th>\n",
       "      <th>Date</th>\n",
       "      <th>AQI</th>\n",
       "      <th>PM2.5</th>\n",
       "      <th>PM10</th>\n",
       "      <th>NO2</th>\n",
       "      <th>CO</th>\n",
       "      <th>O3</th>\n",
       "      <th>SO2</th>\n",
       "    </tr>\n",
       "  </thead>\n",
       "  <tbody>\n",
       "    <tr>\n",
       "      <th>2556</th>\n",
       "      <td>Pune</td>\n",
       "      <td>2024-12-26</td>\n",
       "      <td>80</td>\n",
       "      <td>95</td>\n",
       "      <td>82</td>\n",
       "      <td>88.809636</td>\n",
       "      <td>0.497454</td>\n",
       "      <td>129.043801</td>\n",
       "      <td>8.657624</td>\n",
       "    </tr>\n",
       "    <tr>\n",
       "      <th>2557</th>\n",
       "      <td>Pune</td>\n",
       "      <td>2024-12-27</td>\n",
       "      <td>419</td>\n",
       "      <td>448</td>\n",
       "      <td>462</td>\n",
       "      <td>26.701714</td>\n",
       "      <td>1.553582</td>\n",
       "      <td>86.973954</td>\n",
       "      <td>44.263423</td>\n",
       "    </tr>\n",
       "    <tr>\n",
       "      <th>2558</th>\n",
       "      <td>Pune</td>\n",
       "      <td>2024-12-28</td>\n",
       "      <td>252</td>\n",
       "      <td>202</td>\n",
       "      <td>182</td>\n",
       "      <td>19.920962</td>\n",
       "      <td>1.599821</td>\n",
       "      <td>41.939484</td>\n",
       "      <td>20.545087</td>\n",
       "    </tr>\n",
       "    <tr>\n",
       "      <th>2559</th>\n",
       "      <td>Pune</td>\n",
       "      <td>2024-12-29</td>\n",
       "      <td>365</td>\n",
       "      <td>414</td>\n",
       "      <td>410</td>\n",
       "      <td>80.815702</td>\n",
       "      <td>1.919950</td>\n",
       "      <td>39.982167</td>\n",
       "      <td>22.646297</td>\n",
       "    </tr>\n",
       "    <tr>\n",
       "      <th>2560</th>\n",
       "      <td>Pune</td>\n",
       "      <td>2024-12-30</td>\n",
       "      <td>253</td>\n",
       "      <td>269</td>\n",
       "      <td>285</td>\n",
       "      <td>66.231614</td>\n",
       "      <td>0.611800</td>\n",
       "      <td>63.966705</td>\n",
       "      <td>10.580135</td>\n",
       "    </tr>\n",
       "    <tr>\n",
       "      <th>2561</th>\n",
       "      <td>Pune</td>\n",
       "      <td>2024-12-31</td>\n",
       "      <td>95</td>\n",
       "      <td>140</td>\n",
       "      <td>117</td>\n",
       "      <td>99.505459</td>\n",
       "      <td>0.122817</td>\n",
       "      <td>112.774765</td>\n",
       "      <td>30.814997</td>\n",
       "    </tr>\n",
       "  </tbody>\n",
       "</table>\n",
       "</div>"
      ],
      "text/plain": [
       "      City        Date  AQI  PM2.5  PM10        NO2        CO          O3  \\\n",
       "2556  Pune  2024-12-26   80     95    82  88.809636  0.497454  129.043801   \n",
       "2557  Pune  2024-12-27  419    448   462  26.701714  1.553582   86.973954   \n",
       "2558  Pune  2024-12-28  252    202   182  19.920962  1.599821   41.939484   \n",
       "2559  Pune  2024-12-29  365    414   410  80.815702  1.919950   39.982167   \n",
       "2560  Pune  2024-12-30  253    269   285  66.231614  0.611800   63.966705   \n",
       "2561  Pune  2024-12-31   95    140   117  99.505459  0.122817  112.774765   \n",
       "\n",
       "            SO2  \n",
       "2556   8.657624  \n",
       "2557  44.263423  \n",
       "2558  20.545087  \n",
       "2559  22.646297  \n",
       "2560  10.580135  \n",
       "2561  30.814997  "
      ]
     },
     "execution_count": 4,
     "metadata": {},
     "output_type": "execute_result"
    }
   ],
   "source": [
    "df.tail(6)"
   ]
  },
  {
   "cell_type": "code",
   "execution_count": 12,
   "id": "c6b04f88-57be-4080-8635-4c3d89edd633",
   "metadata": {},
   "outputs": [
    {
     "name": "stdout",
     "output_type": "stream",
     "text": [
      "Summary statistics of all the numeric columns\n"
     ]
    }
   ],
   "source": [
    "print(\"Summary statistics of all the numeric columns\")"
   ]
  },
  {
   "cell_type": "code",
   "execution_count": 11,
   "id": "362fe5c4-5052-492c-b943-b5b97fc12ad2",
   "metadata": {},
   "outputs": [
    {
     "data": {
      "text/html": [
       "<div>\n",
       "<style scoped>\n",
       "    .dataframe tbody tr th:only-of-type {\n",
       "        vertical-align: middle;\n",
       "    }\n",
       "\n",
       "    .dataframe tbody tr th {\n",
       "        vertical-align: top;\n",
       "    }\n",
       "\n",
       "    .dataframe thead th {\n",
       "        text-align: right;\n",
       "    }\n",
       "</style>\n",
       "<table border=\"1\" class=\"dataframe\">\n",
       "  <thead>\n",
       "    <tr style=\"text-align: right;\">\n",
       "      <th></th>\n",
       "      <th>AQI</th>\n",
       "      <th>PM2.5</th>\n",
       "      <th>PM10</th>\n",
       "      <th>NO2</th>\n",
       "      <th>CO</th>\n",
       "      <th>O3</th>\n",
       "      <th>SO2</th>\n",
       "    </tr>\n",
       "  </thead>\n",
       "  <tbody>\n",
       "    <tr>\n",
       "      <th>count</th>\n",
       "      <td>2562.000000</td>\n",
       "      <td>2562.000000</td>\n",
       "      <td>2562.000000</td>\n",
       "      <td>2562.000000</td>\n",
       "      <td>2562.000000</td>\n",
       "      <td>2562.000000</td>\n",
       "      <td>2562.000000</td>\n",
       "    </tr>\n",
       "    <tr>\n",
       "      <th>mean</th>\n",
       "      <td>277.635051</td>\n",
       "      <td>276.738486</td>\n",
       "      <td>275.988290</td>\n",
       "      <td>54.151115</td>\n",
       "      <td>1.037476</td>\n",
       "      <td>104.832673</td>\n",
       "      <td>27.746349</td>\n",
       "    </tr>\n",
       "    <tr>\n",
       "      <th>std</th>\n",
       "      <td>128.603738</td>\n",
       "      <td>131.015126</td>\n",
       "      <td>131.900856</td>\n",
       "      <td>25.744072</td>\n",
       "      <td>0.560294</td>\n",
       "      <td>54.878784</td>\n",
       "      <td>12.927527</td>\n",
       "    </tr>\n",
       "    <tr>\n",
       "      <th>min</th>\n",
       "      <td>50.000000</td>\n",
       "      <td>2.000000</td>\n",
       "      <td>-26.000000</td>\n",
       "      <td>10.036926</td>\n",
       "      <td>0.100100</td>\n",
       "      <td>10.045129</td>\n",
       "      <td>5.000524</td>\n",
       "    </tr>\n",
       "    <tr>\n",
       "      <th>25%</th>\n",
       "      <td>166.250000</td>\n",
       "      <td>165.000000</td>\n",
       "      <td>166.000000</td>\n",
       "      <td>32.025372</td>\n",
       "      <td>0.545341</td>\n",
       "      <td>58.169877</td>\n",
       "      <td>16.685076</td>\n",
       "    </tr>\n",
       "    <tr>\n",
       "      <th>50%</th>\n",
       "      <td>276.000000</td>\n",
       "      <td>274.500000</td>\n",
       "      <td>274.000000</td>\n",
       "      <td>53.606459</td>\n",
       "      <td>1.010095</td>\n",
       "      <td>104.345545</td>\n",
       "      <td>27.872017</td>\n",
       "    </tr>\n",
       "    <tr>\n",
       "      <th>75%</th>\n",
       "      <td>388.750000</td>\n",
       "      <td>388.000000</td>\n",
       "      <td>386.000000</td>\n",
       "      <td>76.322683</td>\n",
       "      <td>1.533300</td>\n",
       "      <td>152.515574</td>\n",
       "      <td>38.878445</td>\n",
       "    </tr>\n",
       "    <tr>\n",
       "      <th>max</th>\n",
       "      <td>499.000000</td>\n",
       "      <td>543.000000</td>\n",
       "      <td>559.000000</td>\n",
       "      <td>99.974242</td>\n",
       "      <td>1.999528</td>\n",
       "      <td>199.979607</td>\n",
       "      <td>49.976055</td>\n",
       "    </tr>\n",
       "  </tbody>\n",
       "</table>\n",
       "</div>"
      ],
      "text/plain": [
       "               AQI        PM2.5         PM10          NO2           CO  \\\n",
       "count  2562.000000  2562.000000  2562.000000  2562.000000  2562.000000   \n",
       "mean    277.635051   276.738486   275.988290    54.151115     1.037476   \n",
       "std     128.603738   131.015126   131.900856    25.744072     0.560294   \n",
       "min      50.000000     2.000000   -26.000000    10.036926     0.100100   \n",
       "25%     166.250000   165.000000   166.000000    32.025372     0.545341   \n",
       "50%     276.000000   274.500000   274.000000    53.606459     1.010095   \n",
       "75%     388.750000   388.000000   386.000000    76.322683     1.533300   \n",
       "max     499.000000   543.000000   559.000000    99.974242     1.999528   \n",
       "\n",
       "                O3          SO2  \n",
       "count  2562.000000  2562.000000  \n",
       "mean    104.832673    27.746349  \n",
       "std      54.878784    12.927527  \n",
       "min      10.045129     5.000524  \n",
       "25%      58.169877    16.685076  \n",
       "50%     104.345545    27.872017  \n",
       "75%     152.515574    38.878445  \n",
       "max     199.979607    49.976055  "
      ]
     },
     "execution_count": 11,
     "metadata": {},
     "output_type": "execute_result"
    }
   ],
   "source": [
    "df.describe()"
   ]
  },
  {
   "cell_type": "code",
   "execution_count": 43,
   "id": "e0a0a994-abbc-46a6-b850-b7b2e5bbbe2d",
   "metadata": {},
   "outputs": [
    {
     "data": {
      "text/plain": [
       "City\n",
       "Bangalore    279.543716\n",
       "Chennai      274.314208\n",
       "Delhi        279.153005\n",
       "Hyderabad    280.355191\n",
       "Kolkata      265.901639\n",
       "Mumbai       287.797814\n",
       "Pune         276.379781\n",
       "Name: AQI, dtype: float64"
      ]
     },
     "execution_count": 43,
     "metadata": {},
     "output_type": "execute_result"
    }
   ],
   "source": [
    "df.groupby(\"City\")[\"AQI\"].mean()"
   ]
  },
  {
   "cell_type": "code",
   "execution_count": 44,
   "id": "28b95a1a-ef69-421b-b85b-be47a6b065f2",
   "metadata": {},
   "outputs": [
    {
     "data": {
      "text/plain": [
       "City\n",
       "Bangalore    278.469945\n",
       "Chennai      275.139344\n",
       "Delhi        279.898907\n",
       "Hyderabad    277.825137\n",
       "Kolkata      264.663934\n",
       "Mumbai       286.046448\n",
       "Pune         275.125683\n",
       "Name: PM2.5, dtype: float64"
      ]
     },
     "execution_count": 44,
     "metadata": {},
     "output_type": "execute_result"
    }
   ],
   "source": [
    "df.groupby(\"City\")[\"PM2.5\"].mean()"
   ]
  },
  {
   "cell_type": "code",
   "execution_count": 45,
   "id": "246c31d3-53e9-4993-8816-d559ac9973d3",
   "metadata": {},
   "outputs": [
    {
     "data": {
      "text/plain": [
       "City\n",
       "Bangalore    277.759563\n",
       "Chennai      273.265027\n",
       "Delhi        279.349727\n",
       "Hyderabad    276.456284\n",
       "Kolkata      263.644809\n",
       "Mumbai       286.669399\n",
       "Pune         274.773224\n",
       "Name: PM10, dtype: float64"
      ]
     },
     "execution_count": 45,
     "metadata": {},
     "output_type": "execute_result"
    }
   ],
   "source": [
    "df.groupby(\"City\")[\"PM10\"].mean()"
   ]
  },
  {
   "cell_type": "markdown",
   "id": "cc029c94-4fdc-4e78-af63-2a6c78de46b5",
   "metadata": {},
   "source": [
    "Average AQI"
   ]
  },
  {
   "cell_type": "code",
   "execution_count": 41,
   "id": "3e0d2823-42d9-469b-9dc6-13c82443a8c8",
   "metadata": {},
   "outputs": [
    {
     "name": "stdout",
     "output_type": "stream",
     "text": [
      "City\n",
      "Bangalore    279.543716\n",
      "Chennai      274.314208\n",
      "Delhi        279.153005\n",
      "Hyderabad    280.355191\n",
      "Kolkata      265.901639\n",
      "Mumbai       287.797814\n",
      "Pune         276.379781\n",
      "Name: AQI, dtype: float64\n"
     ]
    }
   ],
   "source": [
    "b=df.groupby(\"City\")[\"AQI\"].mean()\n",
    "print(b)"
   ]
  },
  {
   "cell_type": "markdown",
   "id": "835d3c31-3065-410f-8e68-9f6dc7c63951",
   "metadata": {},
   "source": [
    "Maximum PM10 Level"
   ]
  },
  {
   "cell_type": "code",
   "execution_count": 32,
   "id": "222e3661-45ce-4c2f-b994-a6b0d57c3baf",
   "metadata": {},
   "outputs": [
    {
     "name": "stdout",
     "output_type": "stream",
     "text": [
      "City\n",
      "Bangalore    516\n",
      "Chennai      535\n",
      "Delhi        548\n",
      "Hyderabad    542\n",
      "Kolkata      538\n",
      "Mumbai       530\n",
      "Pune         559\n",
      "Name: PM10, dtype: int64\n"
     ]
    }
   ],
   "source": [
    "a=df.groupby(\"City\").max(\"PM10\")[\"PM10\"]\n",
    "print(a)"
   ]
  },
  {
   "cell_type": "code",
   "execution_count": null,
   "id": "38fc17d9-53fc-4344-90ea-4a9d63a7a4c8",
   "metadata": {},
   "outputs": [],
   "source": []
  }
 ],
 "metadata": {
  "kernelspec": {
   "display_name": "Python 3 (ipykernel)",
   "language": "python",
   "name": "python3"
  },
  "language_info": {
   "codemirror_mode": {
    "name": "ipython",
    "version": 3
   },
   "file_extension": ".py",
   "mimetype": "text/x-python",
   "name": "python",
   "nbconvert_exporter": "python",
   "pygments_lexer": "ipython3",
   "version": "3.12.3"
  }
 },
 "nbformat": 4,
 "nbformat_minor": 5
}
